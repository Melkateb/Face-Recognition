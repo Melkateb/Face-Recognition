{
  "nbformat": 4,
  "nbformat_minor": 0,
  "metadata": {
    "colab": {
      "provenance": [],
      "include_colab_link": true
    },
    "kernelspec": {
      "name": "python3",
      "display_name": "Python 3"
    },
    "language_info": {
      "name": "python"
    }
  },
  "cells": [
    {
      "cell_type": "markdown",
      "metadata": {
        "id": "view-in-github",
        "colab_type": "text"
      },
      "source": [
        "<a href=\"https://colab.research.google.com/github/Melkateb/Face-Recognition/blob/main/assignment_1.ipynb\" target=\"_parent\"><img src=\"https://colab.research.google.com/assets/colab-badge.svg\" alt=\"Open In Colab\"/></a>"
      ]
    },
    {
      "cell_type": "markdown",
      "metadata": {
        "id": "qmFVgv8FHctm"
      },
      "source": [
        "**1. Download the dataset and understand the format**"
      ]
    },
    {
      "cell_type": "code",
      "metadata": {
        "colab": {
          "base_uri": "https://localhost:8080/"
        },
        "id": "Hb1jz9hoUWrn",
        "outputId": "ee7e1457-f679-4738-deb2-fa04157c27db"
      },
      "source": [
        "!unzip archive.zip\n"
      ],
      "execution_count": null,
      "outputs": [
        {
          "output_type": "stream",
          "name": "stdout",
          "text": [
            "Archive:  archive.zip\n",
            "replace README? [y]es, [n]o, [A]ll, [N]one, [r]ename: N\n"
          ]
        }
      ]
    },
    {
      "cell_type": "markdown",
      "metadata": {
        "id": "NsLUPHmNHtZm"
      },
      "source": [
        "**2. Generate the Data Matrix and the Label vector**"
      ]
    },
    {
      "cell_type": "code",
      "metadata": {
        "id": "8261-mNwUt8c"
      },
      "source": [
        "from PIL import Image\n",
        "import os.path\n",
        "import numpy as np\n",
        "import matplotlib.pyplot as plt\n",
        "from os import listdir\n",
        "from keras.preprocessing.image import img_to_array\n",
        "\n",
        "data_set = []\n",
        "Y =[]\n",
        "\n",
        "for id in range(1,41):\n",
        "    for count in range(1,11) :\n",
        "      image = Image.open('s'+str(id)+'/'+str(count)+'.pgm')         #read image from file\n",
        "      image_arr = img_to_array(image)                               #convert image to array\n",
        "      image_arr = np.resize(image_arr,(10304))                      #resize images to 92x112\n",
        "      data_set.append(image_arr)                                    #add image array to data list\n",
        "      Y.append(id)                                                  #add id from 1 to 10 for each person's images in label list Y\n",
        "\n",
        "D = np.arange(400*10304).reshape(400,10304)                         #stack the 400 vector in single matrix D\n",
        "\n",
        "for i in range(0,400):\n",
        "    D[i] = np.array(data_set[i])  "
      ],
      "execution_count": null,
      "outputs": []
    },
    {
      "cell_type": "markdown",
      "metadata": {
        "id": "e-0HXZp9Hxav"
      },
      "source": [
        "**3. Split the Dataset into Training and Test sets**"
      ]
    },
    {
      "cell_type": "code",
      "metadata": {
        "id": "305-G8sjVApW"
      },
      "source": [
        "train_set = np.arange(200*10304).reshape(200,10304)                    #create training set of size 200x10304\n",
        "test_set = np.arange(200*10304).reshape(200,10304)                     #create testing set of size 200x10304\n",
        "train_label = []                                                       #create list for training labels\n",
        "test_label = []                                                        #create list for testing labels\n",
        "\n",
        "j,k = 0,0\n",
        "for i in range(0,400):              \n",
        "    if(i%2 == 0):                                                      #add even for test set\n",
        "        test_set[j] = D[i]\n",
        "        test_label.append(Y[i])\n",
        "        j += 1\n",
        "    else:                                                              #add odd for train set\n",
        "        train_set[k] = D[i]\n",
        "        train_label.append(Y[i])\n",
        "        k += 1"
      ],
      "execution_count": null,
      "outputs": []
    },
    {
      "cell_type": "markdown",
      "metadata": {
        "id": "rOVsculnH1xR"
      },
      "source": [
        "**4. Classification using PCA.**"
      ]
    },
    {
      "cell_type": "code",
      "metadata": {
        "id": "_QhGLyhwVi5g"
      },
      "source": [
        "import numpy as np\n",
        "import scipy.linalg as la\n",
        "\n",
        "data_M = np.mean(data_set,axis=0)                                     #compute mean of the data set\n",
        "train_M = np.mean(train_set,axis=0)                                   #compute mean of the trainig set\n",
        "\n",
        "data_Z = data_set-data_M                                              #center the data set\n",
        "train_Z = train_set-train_M                                           #center the training set       \n",
        "\n",
        "cov = 1/400*np.dot(data_Z.T,data_Z)                                   #compute covariance matrix\n",
        "\n",
        "eigenvalue,eigenvector = la.eig(cov)                                  #compute eigenvalues and eigenvectors\n",
        "\n",
        "index = eigenvalue.argsort()[::-1]                                    #sort the indecies of the ascending eigenvalues\n",
        "                                                                      # and get the index of the largest one\n",
        "\n",
        "eigenvalue = eigenvalue[index]                                        #crop eigenvalues \n",
        "eigenvector = eigenvector[:,index]                                    #crop eigenvectors\n",
        "\n",
        "def chooseDimensionality(eigenvalue,alpha):                           #function to choose the dimensionality\n",
        "    data_variance = np.sum(eigenvalue.real)                           #compute data set variance\n",
        "    variance_ratio, num_dimensions, eigValSum = 0,0,0     \n",
        "    while(variance_ratio < alpha):\n",
        "        eigValSum += eigenvalue[num_dimensions]\n",
        "        variance_ratio = eigValSum/data_variance\n",
        "        num_dimensions += 1\n",
        "    return num_dimensions\n"
      ],
      "execution_count": null,
      "outputs": []
    },
    {
      "cell_type": "code",
      "metadata": {
        "colab": {
          "base_uri": "https://localhost:8080/",
          "height": 491
        },
        "id": "I_I-kUXkVqYk",
        "outputId": "a8bc993a-ef27-48e1-8f67-8b6802a7e87b"
      },
      "source": [
        "alpha = np.array([0.8,0.85,0.9,0.95])                                 #define alpha\n",
        "dim_alpha = np.empty(4,dtype=object)\n",
        "projection_matrices = []                                              #create list for projection matrices \n",
        "\n",
        "for i in range(len(alpha)):\n",
        "    dim_alpha[i] = chooseDimensionality(eigenvalue,alpha[i])\n",
        "    print(\"alpha =\",alpha[i])\n",
        "    print(dim_alpha[i])\n",
        "    \n",
        "plt.plot(dim_alpha, alpha)                                            #plot the number of dimensions vs each alpha        \n",
        "plt.title('Alpha versus Number of Reduced Dimensions')\n",
        "plt.gcf().set_size_inches(15,5)\n",
        "plt.xlabel('Number of reduced dimensions')\n",
        "plt.ylabel('Alpha')\n",
        "plt.show()\n",
        "\n",
        "for i in range(0,4):\n",
        "  projection_matrices.append(eigenvector[:,0:dim_alpha[i]])\n"
      ],
      "execution_count": null,
      "outputs": [
        {
          "output_type": "stream",
          "name": "stdout",
          "text": [
            "alpha = 0.8\n",
            "44\n",
            "alpha = 0.85\n",
            "68\n",
            "alpha = 0.9\n",
            "111\n",
            "alpha = 0.95\n",
            "190\n"
          ]
        },
        {
          "output_type": "display_data",
          "data": {
            "image/png": "[encoded data removed]",
            "text/plain": [
              "<Figure size 1080x360 with 1 Axes>"
            ]
          },
          "metadata": {
            "needs_background": "light"
          }
        }
      ]
    },
    {
      "cell_type": "code",
      "metadata": {
        "id": "YLZOCmrhV2T1"
      },
      "source": [
        "reduced_dim_train = []                                             #project training set  \n",
        "for i in range(0,4): \n",
        "   reduced_dim_train.append((projection_matrices[i].T @ train_Z.T))\n"
      ],
      "execution_count": null,
      "outputs": []
    },
    {
      "cell_type": "code",
      "metadata": {
        "id": "kcmbNVJ7V867"
      },
      "source": [
        "test_M = np.mean(test_set,axis=0)                                 #compute mean of the testing set\n",
        "\n",
        "test_Z = test_set-test_M                                          #center the testing set  "
      ],
      "execution_count": null,
      "outputs": []
    },
    {
      "cell_type": "code",
      "metadata": {
        "id": "p4dDtSRlWEWH"
      },
      "source": [
        "reduced_dim_test = []                                             #project testing set \n",
        "for i in range(0,4):\n",
        "   reduced_dim_test.append(projection_matrices[i].T @ test_Z.T)\n"
      ],
      "execution_count": null,
      "outputs": []
    },
    {
      "cell_type": "markdown",
      "metadata": {
        "id": "y9Iy59SwH7og"
      },
      "source": [
        "**5. Classifier Tuning**"
      ]
    },
    {
      "cell_type": "code",
      "metadata": {
        "colab": {
          "base_uri": "https://localhost:8080/",
          "height": 577
        },
        "id": "TDbzDIZuWGLQ",
        "outputId": "709160f1-8333-4ac3-aed9-ac5c64eb2d3b"
      },
      "source": [
        "from sklearn import metrics\n",
        "from sklearn.neighbors import KNeighborsClassifier\n",
        "\n",
        "def knn(trainingSet,trainingLabel,testSet,testLabel,k):           #function to compute KNN\n",
        "    knn = KNeighborsClassifier(k)\n",
        "    knn.fit(trainingSet,trainingLabel)\n",
        "    pred = knn.predict(testSet)\n",
        "    accuracy = metrics.accuracy_score(testLabel, pred)\n",
        "    return accuracy\n",
        "\n",
        "knn_accuracy = [] \n",
        "num_neighbors = np.array([1,3,5,7])\n",
        "\n",
        "\n",
        "for n in range (0,4):                                             #call function Knn for each number of neighbours four times for each alpha\n",
        "   for i in range(0,4):\n",
        "      knn_accuracy.append(knn(reduced_dim_train[i].real.T,train_label,reduced_dim_test[i].real.T,test_label,num_neighbors[n]))\n",
        "      print(\"accuracy at knn \",n+1,\" = \",knn_accuracy[i])\n",
        "   plt.plot(alpha,knn_accuracy)\n",
        "   knn_accuracy = []\n",
        "\n",
        "\n",
        "plt.title('Accuracy of KNN versus Alpha')\n",
        "plt.xlabel('Alpha')\n",
        "plt.ylabel('Accuracy')\n",
        "plt.show()\n",
        "\n"
      ],
      "execution_count": null,
      "outputs": [
        {
          "output_type": "stream",
          "name": "stdout",
          "text": [
            "accuracy at knn  1  =  0.945\n",
            "accuracy at knn  1  =  0.945\n",
            "accuracy at knn  1  =  0.95\n",
            "accuracy at knn  1  =  0.945\n",
            "accuracy at knn  2  =  0.87\n",
            "accuracy at knn  2  =  0.87\n",
            "accuracy at knn  2  =  0.85\n",
            "accuracy at knn  2  =  0.85\n",
            "accuracy at knn  3  =  0.84\n",
            "accuracy at knn  3  =  0.825\n",
            "accuracy at knn  3  =  0.835\n",
            "accuracy at knn  3  =  0.82\n",
            "accuracy at knn  4  =  0.78\n",
            "accuracy at knn  4  =  0.765\n",
            "accuracy at knn  4  =  0.76\n",
            "accuracy at knn  4  =  0.75\n"
          ]
        },
        {
          "output_type": "display_data",
          "data": {
            "image/png": "[encoded data removed]",
            "text/plain": [
              "<Figure size 432x288 with 1 Axes>"
            ]
          },
          "metadata": {
            "needs_background": "light"
          }
        }
      ]
    },
    {
      "cell_type": "code",
      "metadata": {
        "id": "PClSlzt1oUZ0",
        "colab": {
          "base_uri": "https://localhost:8080/",
          "height": 350
        },
        "outputId": "e651abdf-04c4-441d-f6d0-11b2290905d8"
      },
      "source": [
        "alpha = 0.9\n",
        "score = []\n",
        "for i in range (0,4):\n",
        "    score.append(knn(reduced_dim_train[2].real.T,train_label,reduced_dim_test[2].real.T,test_label,num_neighbors[i]))\n",
        "plt.plot (num_neighbors,score)    \n",
        "plt.title('Accuracy of KNN versus number on neighbours')\n",
        "plt.gcf().set_size_inches(15,5)\n",
        "plt.xlabel('Number of Neighbours')\n",
        "plt.ylabel('Accuracy')\n",
        "plt.show()"
      ],
      "execution_count": null,
      "outputs": [
        {
          "output_type": "display_data",
          "data": {
            "image/png": "[encoded data removed]",
            "text/plain": [
              "<Figure size 1080x360 with 1 Axes>"
            ]
          },
          "metadata": {
            "needs_background": "light"
          }
        }
      ]
    }
  ]
}